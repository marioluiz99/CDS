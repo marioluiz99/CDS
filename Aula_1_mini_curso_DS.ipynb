{
  "nbformat": 4,
  "nbformat_minor": 0,
  "metadata": {
    "colab": {
      "name": "Aula_1_mini_curso_DS.ipynb",
      "provenance": [],
      "authorship_tag": "ABX9TyPL6ACzNPJxGpnVu1vJTdLO",
      "include_colab_link": true
    },
    "kernelspec": {
      "name": "python3",
      "display_name": "Python 3"
    },
    "language_info": {
      "name": "python"
    }
  },
  "cells": [
    {
      "cell_type": "markdown",
      "metadata": {
        "id": "view-in-github",
        "colab_type": "text"
      },
      "source": [
        "<a href=\"https://colab.research.google.com/github/marioluiz99/CDS/blob/main/Aula_1_mini_curso_DS.ipynb\" target=\"_parent\"><img src=\"https://colab.research.google.com/assets/colab-badge.svg\" alt=\"Open In Colab\"/></a>"
      ]
    },
    {
      "cell_type": "code",
      "source": [
        "import numpy\n",
        "numpy.sum([10, 30]) # 1. Some os números: 10, 30"
      ],
      "metadata": {
        "colab": {
          "base_uri": "https://localhost:8080/"
        },
        "id": "8Em1cN3XYXap",
        "outputId": "214244cf-829c-4096-ba9d-423e24c11e62"
      },
      "execution_count": null,
      "outputs": [
        {
          "output_type": "execute_result",
          "data": {
            "text/plain": [
              "40"
            ]
          },
          "metadata": {},
          "execution_count": 12
        }
      ]
    },
    {
      "cell_type": "code",
      "source": [
        "import numpy\n",
        "sum([10, 30]) # 2. Outra forma de somar os números: 10, 30"
      ],
      "metadata": {
        "colab": {
          "base_uri": "https://localhost:8080/"
        },
        "id": "gVKzRB1hbMM4",
        "outputId": "3d43f0fc-7a25-4582-af6e-0080a86cdfac"
      },
      "execution_count": null,
      "outputs": [
        {
          "output_type": "execute_result",
          "data": {
            "text/plain": [
              "40"
            ]
          },
          "metadata": {},
          "execution_count": 13
        }
      ]
    },
    {
      "cell_type": "code",
      "source": [
        "import numpy\n",
        "numpy.sum([10, 300, 0.4, 10]) # 3. Some os números: 10, 300, 0.4, 10"
      ],
      "metadata": {
        "colab": {
          "base_uri": "https://localhost:8080/"
        },
        "id": "xIbtnK29botm",
        "outputId": "8b065418-a13b-45e6-b176-954f48b04245"
      },
      "execution_count": null,
      "outputs": [
        {
          "output_type": "execute_result",
          "data": {
            "text/plain": [
              "320.4"
            ]
          },
          "metadata": {},
          "execution_count": 14
        }
      ]
    },
    {
      "cell_type": "code",
      "source": [
        "import numpy\n",
        "numpy.sum([10, 0, 30]) # 4. Some os números: 10, 0, 30"
      ],
      "metadata": {
        "colab": {
          "base_uri": "https://localhost:8080/"
        },
        "id": "js0Kz_7Tb3Zn",
        "outputId": "41a2be06-281a-4d22-fbd0-013f68dad94e"
      },
      "execution_count": null,
      "outputs": [
        {
          "output_type": "execute_result",
          "data": {
            "text/plain": [
              "40"
            ]
          },
          "metadata": {},
          "execution_count": 15
        }
      ]
    },
    {
      "cell_type": "code",
      "source": [
        "import numpy\n",
        "numpy.subtract(10, 30) # 5. Subtraia os números: 10, 30 "
      ],
      "metadata": {
        "colab": {
          "base_uri": "https://localhost:8080/"
        },
        "id": "02Y389mvcZeY",
        "outputId": "0ee54bbb-7967-473c-e8e0-8ebd28bd04e8"
      },
      "execution_count": null,
      "outputs": [
        {
          "output_type": "execute_result",
          "data": {
            "text/plain": [
              "-20"
            ]
          },
          "metadata": {},
          "execution_count": 17
        }
      ]
    },
    {
      "cell_type": "code",
      "source": [
        "import numpy\n",
        "numpy.subtract(0, 5) # 6.Subtraia os números: 0, 5"
      ],
      "metadata": {
        "colab": {
          "base_uri": "https://localhost:8080/"
        },
        "id": "MCqpfr62cy0_",
        "outputId": "85b51277-090c-47f1-b6ce-d60ebea75d4c"
      },
      "execution_count": null,
      "outputs": [
        {
          "output_type": "execute_result",
          "data": {
            "text/plain": [
              "-5"
            ]
          },
          "metadata": {},
          "execution_count": 18
        }
      ]
    },
    {
      "cell_type": "code",
      "source": [
        "import numpy\n",
        "numpy.subtract(5, 0) # 7. Subtrais os números: 5, 0"
      ],
      "metadata": {
        "colab": {
          "base_uri": "https://localhost:8080/"
        },
        "id": "SWk9o-7XdHHN",
        "outputId": "3eb097b3-0175-4150-c1ae-037c420b882f"
      },
      "execution_count": null,
      "outputs": [
        {
          "output_type": "execute_result",
          "data": {
            "text/plain": [
              "5"
            ]
          },
          "metadata": {},
          "execution_count": 19
        }
      ]
    },
    {
      "cell_type": "code",
      "source": [
        "import numpy\n",
        "numpy.multiply(10, 30) # 8. Multiplique os números: 10, 30"
      ],
      "metadata": {
        "colab": {
          "base_uri": "https://localhost:8080/"
        },
        "id": "wo-UJRx4dUs8",
        "outputId": "ca1f57a2-e5f6-4b63-f592-1ed5552eaf40"
      },
      "execution_count": null,
      "outputs": [
        {
          "output_type": "execute_result",
          "data": {
            "text/plain": [
              "300"
            ]
          },
          "metadata": {},
          "execution_count": 20
        }
      ]
    },
    {
      "cell_type": "code",
      "source": [
        "import numpy\n",
        "numpy.multiply(0, 6) # 9. Multiplique os números: 0, 6"
      ],
      "metadata": {
        "colab": {
          "base_uri": "https://localhost:8080/"
        },
        "id": "UTYnM8Cud4pu",
        "outputId": "83e33c8a-4566-40e0-d6db-8d7352a838ed"
      },
      "execution_count": null,
      "outputs": [
        {
          "output_type": "execute_result",
          "data": {
            "text/plain": [
              "0"
            ]
          },
          "metadata": {},
          "execution_count": 21
        }
      ]
    },
    {
      "cell_type": "code",
      "source": [
        "import numpy\n",
        "numpy.multiply(5, 3) # 10. Multiplique os números: 5, 3"
      ],
      "metadata": {
        "colab": {
          "base_uri": "https://localhost:8080/"
        },
        "id": "oIEJdj7YeF-2",
        "outputId": "d0b25c6b-037f-4be5-d5c2-caa1c76a2f0d"
      },
      "execution_count": null,
      "outputs": [
        {
          "output_type": "execute_result",
          "data": {
            "text/plain": [
              "15"
            ]
          },
          "metadata": {},
          "execution_count": 22
        }
      ]
    },
    {
      "cell_type": "code",
      "source": [
        "print('Hello, World!!!') # 11. Escreva na tela a palavra ('Hello World!!!')"
      ],
      "metadata": {
        "colab": {
          "base_uri": "https://localhost:8080/"
        },
        "id": "RUu5FRZlegUP",
        "outputId": "25b0822e-2d66-4842-9b3e-52f9f53000cf"
      },
      "execution_count": null,
      "outputs": [
        {
          "output_type": "stream",
          "name": "stdout",
          "text": [
            "Hello, World!!!\n"
          ]
        }
      ]
    },
    {
      "cell_type": "code",
      "source": [
        "print('Vamos DS') # 12. Escreva na tela a palavra ('Vamos DS')"
      ],
      "metadata": {
        "colab": {
          "base_uri": "https://localhost:8080/"
        },
        "id": "vchwhuuGeu60",
        "outputId": "c8d4a29a-7bfa-4157-8ba8-7cf97b446663"
      },
      "execution_count": null,
      "outputs": [
        {
          "output_type": "stream",
          "name": "stdout",
          "text": [
            "Vamos DS\n"
          ]
        }
      ]
    },
    {
      "cell_type": "code",
      "source": [
        "print('Começando a caminhada') # 13. Escreva na tela a palavra ('Começando a caminhada')"
      ],
      "metadata": {
        "colab": {
          "base_uri": "https://localhost:8080/"
        },
        "id": "pBS654n9e73w",
        "outputId": "512dd681-783d-4f30-8ef6-2ba23b375c1b"
      },
      "execution_count": null,
      "outputs": [
        {
          "output_type": "stream",
          "name": "stdout",
          "text": [
            "Começando a caminhada\n"
          ]
        }
      ]
    },
    {
      "cell_type": "code",
      "source": [
        "print('A Aula 01 começou') # 14. Escreva na tela a palavra ('A Aula 01 Começou')"
      ],
      "metadata": {
        "colab": {
          "base_uri": "https://localhost:8080/"
        },
        "id": "CoSvrBAefI-8",
        "outputId": "c17b3ec2-e527-4daa-a339-6af07c304b40"
      },
      "execution_count": null,
      "outputs": [
        {
          "output_type": "stream",
          "name": "stdout",
          "text": [
            "A Aula 01 começou\n"
          ]
        }
      ]
    }
  ]
}